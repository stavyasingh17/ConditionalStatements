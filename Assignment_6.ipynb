{
  "cells": [
    {
      "cell_type": "markdown",
      "metadata": {
        "id": "view-in-github",
        "colab_type": "text"
      },
      "source": [
        "<a href=\"https://colab.research.google.com/github/stavyasingh17/ConditionalStatements/blob/master/Assignment_6.ipynb\" target=\"_parent\"><img src=\"https://colab.research.google.com/assets/colab-badge.svg\" alt=\"Open In Colab\"/></a>"
      ]
    },
    {
      "cell_type": "code",
      "execution_count": null,
      "metadata": {
        "id": "oZHTA7sO5ed5"
      },
      "outputs": [],
      "source": [
        "# importing libraries\n",
        "import random\n",
        "\n",
        "# defining a function for sum of users input array\n",
        "def getSum(arr):\n",
        "    sum = 0\n",
        "    for i in arr:\n",
        "      sum = sum + i\n",
        "    return(sum)\n",
        "\n",
        "# defining a function for generating array of random numbers between 10 and 50\n",
        "def generateRandomNum(n):\n",
        "    a =[]\n",
        "    for i in range(0,n):\n",
        "        a.append(random.randint(10,50))\n",
        "    return(a)"
      ]
    },
    {
      "cell_type": "code",
      "execution_count": null,
      "metadata": {
        "colab": {
          "background_save": true
        },
        "id": "IkVu9EY774ID"
      },
      "outputs": [],
      "source": [
        "#1 enter a num\n",
        "inputNumber = int(input(\"Enter a num between 5 and 15:\"))\n",
        "array = []\n",
        "\n",
        "#2 Validate array\n",
        "if( inputNumber >= 5 and inputNumber <= 15):\n",
        "\n",
        "#3 Generate array\n",
        "    array = generateRandomNum(inputNumber)\n",
        "\n",
        "    #4 Display console of array\n",
        "    print('The elements of array are:',array)\n",
        "\n",
        "    #5 get some\n",
        "    sum = getSum(array)\n",
        "\n",
        "    #6 Display\n",
        "    print('The sum is: ',sum)\n",
        "else:\n",
        "      print(\"Please enter a valid integer 5-15\")\n"
      ]
    },
    {
      "cell_type": "code",
      "execution_count": null,
      "metadata": {
        "id": "yrVx_ZpE12CW"
      },
      "outputs": [],
      "source": []
    }
  ],
  "metadata": {
    "colab": {
      "collapsed_sections": [],
      "provenance": [],
      "include_colab_link": true
    },
    "kernelspec": {
      "display_name": "Python 3",
      "name": "python3"
    },
    "language_info": {
      "name": "python"
    }
  },
  "nbformat": 4,
  "nbformat_minor": 0
}